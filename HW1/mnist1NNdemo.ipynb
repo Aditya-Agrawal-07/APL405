{
  "cells": [
    {
      "cell_type": "markdown",
      "metadata": {
        "id": "NR9ZFFTe8md3"
      },
      "source": [
        "# HW1 Question 2"
      ]
    },
    {
      "cell_type": "code",
      "execution_count": 2,
      "metadata": {
        "id": "iMYMCkOH8md6"
      },
      "outputs": [],
      "source": [
        "# Importing required modules\n",
        "\n",
        "import numpy as np\n",
        "from scipy.io import loadmat\n",
        "from scipy.stats import mode"
      ]
    },
    {
      "cell_type": "code",
      "execution_count": 4,
      "metadata": {
        "id": "9UrzyXkG8md8"
      },
      "outputs": [],
      "source": [
        "dataset = loadmat('mnistData.mat')\n",
        "\n",
        "# loading the training and testing data and labels\n",
        "train_data = dataset['mnist']['train_images'][0,0]\n",
        "\n",
        "test_data = dataset['mnist']['test_images'][0,0]\n",
        "\n",
        "# flattening labels to make it 1 dimensional\n",
        "train_labels = dataset['mnist']['train_labels'][0,0].flatten()\n",
        "test_labels = dataset['mnist']['test_labels'][0,0].flatten()\n",
        "\n",
        "# Reshaping train_data of size (28, 28, 60000) to (60000, 784)\n",
        "train_data = train_data.reshape(train_data.shape[0]*train_data.shape[1], train_data.shape[2]).T\n",
        "\n",
        "# Reshaping train_data of size (28, 28, 10000) to (10000, 784)\n",
        "test_data = test_data.reshape(test_data.shape[0]*test_data.shape[1], test_data.shape[2]).T"
      ]
    },
    {
      "cell_type": "code",
      "execution_count": 5,
      "metadata": {
        "id": "oF2I0K-N8md-"
      },
      "outputs": [],
      "source": [
        "# Function to calculate Euclidean distance between two data points\n",
        "def euclidean_distance(vec1, vec2):\n",
        "    return np.linalg.norm(vec1-vec2)    # inbuilt numpy function to calculate the L2 norm of a vector"
      ]
    },
    {
      "cell_type": "code",
      "execution_count": 6,
      "metadata": {
        "id": "rUIoG-D78md_"
      },
      "outputs": [],
      "source": [
        "# Function to predict label for k-NN algorithm\n",
        "def predict(k, input, dataset):\n",
        "    dist = np.full(k, np.inf)       # array to store k min distances\n",
        "    lbl = np.full(k, -1)            # array to store respective labels\n",
        "\n",
        "    for j in range(len(dataset)):\n",
        "        d = euclidean_distance(input, dataset[j])\n",
        "        maxi = dist[0]\n",
        "        idx = 0\n",
        "        for i in range(1, k):\n",
        "            if (dist[i] > maxi):\n",
        "                maxi = dist[i]\n",
        "                idx = i\n",
        "        if d < maxi:\n",
        "            dist[idx] = d\n",
        "            lbl[idx] = train_labels[j]\n",
        "\n",
        "    return mode(lbl)[0]             # returning the mode of the labels of the k nearest points to the input"
      ]
    },
    {
      "cell_type": "markdown",
      "metadata": {
        "id": "JSSxPYYP8meA"
      },
      "source": [
        "# Using k = 1"
      ]
    },
    {
      "cell_type": "code",
      "execution_count": null,
      "metadata": {
        "colab": {
          "background_save": true
        },
        "id": "wLueZuiB8meB",
        "outputId": "5ef25a9b-c0b6-41c1-b25c-a645d4e98425"
      },
      "outputs": [
        {
          "name": "stdout",
          "output_type": "stream",
          "text": [
            "misclassification rate for k = 1 :  0.2545\n"
          ]
        }
      ],
      "source": [
        "n = test_data.shape[0]\n",
        "predicted_labels = np.full(n, -1)\n",
        "misclassified = 0\n",
        "\n",
        "for i in range(n):\n",
        "    predicted_labels[i] = predict(1, test_data[i], train_data)\n",
        "    if (predicted_labels[i] != test_labels[i]):\n",
        "        misclassified += 1\n",
        "print(\"misclassification rate for k = 1 : \", misclassified/n)"
      ]
    },
    {
      "cell_type": "markdown",
      "metadata": {
        "id": "XUEVsseE8meD"
      },
      "source": [
        "# Using k = 3"
      ]
    },
    {
      "cell_type": "code",
      "execution_count": 7,
      "metadata": {
        "colab": {
          "base_uri": "https://localhost:8080/"
        },
        "id": "BKDXh2f78meE",
        "outputId": "72f74a02-71bf-488f-9282-06f27ebd241b"
      },
      "outputs": [
        {
          "output_type": "stream",
          "name": "stdout",
          "text": [
            "misclassification rate for k = 3 :  0.2133\n"
          ]
        }
      ],
      "source": [
        "n = test_data.shape[0]\n",
        "predicted_labels = np.full(n, -1)\n",
        "misclassified = 0\n",
        "\n",
        "for i in range(n):\n",
        "    predicted_labels[i] = predict(3, test_data[i], train_data)\n",
        "    if (predicted_labels[i] != test_labels[i]):\n",
        "        misclassified += 1\n",
        "print(\"misclassification rate for k = 3 : \", misclassified/n)"
      ]
    },
    {
      "cell_type": "markdown",
      "metadata": {
        "id": "dghsebXM8meF"
      },
      "source": [
        "# Question 2 (b)"
      ]
    },
    {
      "cell_type": "code",
      "execution_count": 7,
      "metadata": {
        "colab": {
          "base_uri": "https://localhost:8080/"
        },
        "id": "ZJlXQJAt8meF",
        "outputId": "b820e0bb-4792-4730-e894-5f9569ccd6a4"
      },
      "outputs": [
        {
          "output_type": "stream",
          "name": "stdout",
          "text": [
            "misclassification rate for k = 1 :  0.2545\n"
          ]
        }
      ],
      "source": [
        "permuted_indices = np.random.permutation(train_data.shape[1])\n",
        "\n",
        "permuted_train_data = train_data[:, permuted_indices]\n",
        "permuted_test_data = test_data[:, permuted_indices]\n",
        "\n",
        "n = test_data.shape[0]\n",
        "predicted_labels = np.full(n, -1)\n",
        "misclassified = 0\n",
        "\n",
        "for i in range(n):\n",
        "  predicted_labels[i] = predict(1, test_data[i], train_data)\n",
        "  if (predicted_labels[i] != test_labels[i]):\n",
        "    misclassified += 1\n",
        "print(\"misclassification rate for k = 1 : \", misclassified/n)"
      ]
    },
    {
      "cell_type": "markdown",
      "metadata": {
        "id": "x8vF7MHE8meG"
      },
      "source": [
        "Clearly, the misclassification rate doesn't change upon permuting the feature columns. This is due to the fact that Euclidean distance between two points is independent of the order of the features."
      ]
    }
  ],
  "metadata": {
    "colab": {
      "provenance": []
    },
    "kernelspec": {
      "display_name": "Python 3",
      "language": "python",
      "name": "python3"
    },
    "language_info": {
      "codemirror_mode": {
        "name": "ipython",
        "version": 3
      },
      "file_extension": ".py",
      "mimetype": "text/x-python",
      "name": "python",
      "nbconvert_exporter": "python",
      "pygments_lexer": "ipython3",
      "version": "3.11.5"
    }
  },
  "nbformat": 4,
  "nbformat_minor": 0
}