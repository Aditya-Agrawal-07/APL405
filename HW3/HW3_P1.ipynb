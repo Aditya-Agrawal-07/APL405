{
 "cells": [
  {
   "cell_type": "markdown",
   "metadata": {
    "id": "GC5zT51nn0vi"
   },
   "source": [
    "# Template for Problem 1 (HW 3)"
   ]
  },
  {
   "cell_type": "code",
   "execution_count": 3,
   "metadata": {
    "id": "RcV9FSaPRCK7"
   },
   "outputs": [],
   "source": [
    "import numpy as np\n",
    "import scipy.io"
   ]
  },
  {
   "cell_type": "code",
   "execution_count": 4,
   "metadata": {
    "id": "Iq1Os72BRm9L"
   },
   "outputs": [],
   "source": [
    "data = scipy.io.loadmat('mnist.mat')"
   ]
  },
  {
   "cell_type": "code",
   "execution_count": 5,
   "metadata": {
    "id": "WI9WTUN0T-8u"
   },
   "outputs": [],
   "source": [
    "ytrain  = data['ytrain']\n",
    "xtrain  = data['xtrain']\n",
    "ytest   = data['ytest']\n",
    "xtest   = data['xtest']\n",
    "yval    = data['yval']\n",
    "xval    = data['xval']"
   ]
  },
  {
   "cell_type": "code",
   "execution_count": 6,
   "metadata": {
    "id": "-JwD3aeW5I8L"
   },
   "outputs": [],
   "source": [
    "# Runs the SSGD on SVM objective taking in an initial weight vector\n",
    "# theta0, matrix of covariates Xtrain, a vector of labels ytrain.\n",
    "# 'tot_iter' is the number of passes to be made through the data.\n",
    "# lbda is the regularization parameter.\n",
    "# Outputs the learned weight vector theta.\n",
    "def train(theta0, Xtrain, ytrain, tot_iters, lamda):\n",
    "    N, D = Xtrain.shape\n",
    "    theta = theta0\n",
    "    np.random.seed(20)\n",
    "    for t in range(tot_iters):\n",
    "        it = np.random.randint(0, N)\n",
    "        eta_t = 1/(lamda*(t+1))\n",
    "        if ytrain[it]*np.dot(Xtrain[it], theta) < 1:\n",
    "            theta = (1 - lamda*eta_t)*theta + eta_t*ytrain[it]*Xtrain[it]\n",
    "        else:\n",
    "            theta = (1 - lamda*eta_t)*theta\n",
    "    return theta\n"
   ]
  },
  {
   "cell_type": "code",
   "execution_count": 7,
   "metadata": {
    "id": "kopklrCSvJ7a"
   },
   "outputs": [],
   "source": [
    "# Define predictions \n",
    "def pred(theta, X):\n",
    "\treturn np.sign(np.dot(X, theta))"
   ]
  },
  {
   "cell_type": "code",
   "execution_count": 8,
   "metadata": {
    "id": "2reeciP7vXTY"
   },
   "outputs": [],
   "source": [
    "# Computes the accuracy on a test dataset\n",
    "def accuracy(X, y, theta):\n",
    "    y_pred = pred(theta, X)\n",
    "    y_pred = y_pred.reshape((-1,1))\n",
    "    acc = np.mean(y_pred == y)\n",
    "    return acc"
   ]
  },
  {
   "cell_type": "code",
   "execution_count": 9,
   "metadata": {
    "id": "wweYkvEF3noB"
   },
   "outputs": [
    {
     "name": "stdout",
     "output_type": "stream",
     "text": [
      "Train Accuracy: 79.43%, Test Accuracy: 79.5%\n"
     ]
    }
   ],
   "source": [
    "# Get training and testing data\n",
    "# training\n",
    "N, p      = np.shape(data['xtrain'])\n",
    "theta0    = np.zeros(p) # or random initialization\n",
    "tot_iter  = 40*N\n",
    "lamda     = 10.0\n",
    "theta     = train(theta0, data['xtrain'], data['ytrain'], tot_iter, lamda)\n",
    "\n",
    "# evaluation\n",
    "print('Train Accuracy: {0}%, Test Accuracy: {1}%'.format(accuracy(data['xtrain'], data['ytrain'], theta) * 100, accuracy(data['xtest'], data['ytest'], theta) * 100))\n"
   ]
  },
  {
   "cell_type": "code",
   "execution_count": 10,
   "metadata": {
    "id": "OXhdQTGLoADg"
   },
   "outputs": [
    {
     "data": {
      "text/plain": [
       "Text(0.5, 1.0, 'Validation error vs lambda')"
      ]
     },
     "execution_count": 10,
     "metadata": {},
     "output_type": "execute_result"
    },
    {
     "data": {
      "image/png": "[encoded data removed]",
      "text/plain": [
       "<Figure size 640x480 with 1 Axes>"
      ]
     },
     "metadata": {},
     "output_type": "display_data"
    }
   ],
   "source": [
    "# Find best lamda using validation\n",
    "import matplotlib.pyplot as plt\n",
    "lamda_set = [0.1,1,10,100,1000]\n",
    "error_set = []\n",
    "for lamda in lamda_set:\n",
    "    theta = train(theta0,xtrain,ytrain,tot_iter,lamda)\n",
    "    error_set.append(1-accuracy(xval,yval,theta))\n",
    "    \n",
    "plt.plot(lamda_set,error_set)\n",
    "plt.xlabel('Lambda')\n",
    "plt.ylabel('Validation error')\n",
    "plt.title('Validation error vs lambda')"
   ]
  },
  {
   "cell_type": "code",
   "execution_count": 11,
   "metadata": {},
   "outputs": [
    {
     "ename": "KeyboardInterrupt",
     "evalue": "",
     "output_type": "error",
     "traceback": [
      "\u001b[1;31m---------------------------------------------------------------------------\u001b[0m",
      "\u001b[1;31mKeyboardInterrupt\u001b[0m                         Traceback (most recent call last)",
      "Cell \u001b[1;32mIn[11], line 8\u001b[0m\n\u001b[0;32m      6\u001b[0m \u001b[38;5;28;01mfor\u001b[39;00m iteration \u001b[38;5;129;01min\u001b[39;00m iteration_set:\n\u001b[0;32m      7\u001b[0m     theta0    \u001b[38;5;241m=\u001b[39m np\u001b[38;5;241m.\u001b[39mzeros(p)\n\u001b[1;32m----> 8\u001b[0m     theta \u001b[38;5;241m=\u001b[39m \u001b[43mtrain\u001b[49m\u001b[43m(\u001b[49m\u001b[43mtheta0\u001b[49m\u001b[43m,\u001b[49m\u001b[43mxtrain\u001b[49m\u001b[43m,\u001b[49m\u001b[43mytrain\u001b[49m\u001b[43m,\u001b[49m\u001b[38;5;28;43mint\u001b[39;49m\u001b[43m(\u001b[49m\u001b[43miteration\u001b[49m\u001b[43m)\u001b[49m\u001b[38;5;241;43m*\u001b[39;49m\u001b[43mN\u001b[49m\u001b[43m,\u001b[49m\u001b[43mlamda\u001b[49m\u001b[43m)\u001b[49m\n\u001b[0;32m      9\u001b[0m     train_accuracy_set\u001b[38;5;241m.\u001b[39mappend(accuracy(xtrain,ytrain,theta))\n\u001b[0;32m     10\u001b[0m     test_accuracy_set\u001b[38;5;241m.\u001b[39mappend(accuracy(xtest,ytest,theta))\n",
      "Cell \u001b[1;32mIn[6], line 13\u001b[0m, in \u001b[0;36mtrain\u001b[1;34m(theta0, Xtrain, ytrain, tot_iters, lamda)\u001b[0m\n\u001b[0;32m     11\u001b[0m it \u001b[38;5;241m=\u001b[39m np\u001b[38;5;241m.\u001b[39mrandom\u001b[38;5;241m.\u001b[39mrandint(\u001b[38;5;241m0\u001b[39m, N)\n\u001b[0;32m     12\u001b[0m eta_t \u001b[38;5;241m=\u001b[39m \u001b[38;5;241m1\u001b[39m\u001b[38;5;241m/\u001b[39m(lamda\u001b[38;5;241m*\u001b[39m(t\u001b[38;5;241m+\u001b[39m\u001b[38;5;241m1\u001b[39m))\n\u001b[1;32m---> 13\u001b[0m \u001b[38;5;28;01mif\u001b[39;00m ytrain[it]\u001b[38;5;241m*\u001b[39m\u001b[43mnp\u001b[49m\u001b[38;5;241;43m.\u001b[39;49m\u001b[43mdot\u001b[49m\u001b[43m(\u001b[49m\u001b[43mXtrain\u001b[49m\u001b[43m[\u001b[49m\u001b[43mit\u001b[49m\u001b[43m]\u001b[49m\u001b[43m,\u001b[49m\u001b[43m \u001b[49m\u001b[43mtheta\u001b[49m\u001b[43m)\u001b[49m \u001b[38;5;241m<\u001b[39m \u001b[38;5;241m1\u001b[39m:\n\u001b[0;32m     14\u001b[0m     theta \u001b[38;5;241m=\u001b[39m (\u001b[38;5;241m1\u001b[39m \u001b[38;5;241m-\u001b[39m lamda\u001b[38;5;241m*\u001b[39meta_t)\u001b[38;5;241m*\u001b[39mtheta \u001b[38;5;241m+\u001b[39m eta_t\u001b[38;5;241m*\u001b[39mytrain[it]\u001b[38;5;241m*\u001b[39mXtrain[it]\n\u001b[0;32m     15\u001b[0m \u001b[38;5;28;01melse\u001b[39;00m:\n",
      "\u001b[1;31mKeyboardInterrupt\u001b[0m: "
     ]
    }
   ],
   "source": [
    "iteration_set = np.linspace(10,200,20)\n",
    "train_accuracy_set = []\n",
    "test_accuracy_set = []\n",
    "lamda = 0.1\n",
    "N, p = np.shape(data['xtrain'])\n",
    "for iteration in iteration_set:\n",
    "    theta0    = np.zeros(p)\n",
    "    theta = train(theta0,xtrain,ytrain,int(x)*N,lamda)\n",
    "    train_accuracy_set.append(accuracy(xtrain,ytrain,theta))\n",
    "    test_accuracy_set.append(accuracy(xtest,ytest,theta))\n",
    "\n",
    "plt.plot(iteration_set,train_accuracy_set,label='Training accuracy')\n",
    "plt.plot(iteration_set,test_accuracy_set,label='Test accuracy')\n",
    "plt.xlabel('Epochs')\n",
    "plt.ylabel('Accuracy')\n",
    "plt.legend()"
   ]
  },
  {
   "cell_type": "code",
   "execution_count": null,
   "metadata": {},
   "outputs": [],
   "source": []
  }
 ],
 "metadata": {
  "accelerator": "GPU",
  "colab": {
   "provenance": []
  },
  "gpuClass": "standard",
  "kernelspec": {
   "display_name": "Python 3 (ipykernel)",
   "language": "python",
   "name": "python3"
  },
  "language_info": {
   "codemirror_mode": {
    "name": "ipython",
    "version": 3
   },
   "file_extension": ".py",
   "mimetype": "text/x-python",
   "name": "python",
   "nbconvert_exporter": "python",
   "pygments_lexer": "ipython3",
   "version": "3.11.5"
  }
 },
 "nbformat": 4,
 "nbformat_minor": 1
}
